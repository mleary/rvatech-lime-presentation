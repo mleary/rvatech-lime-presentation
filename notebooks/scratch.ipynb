{
 "cells": [
  {
   "cell_type": "markdown",
   "metadata": {},
   "source": [
    "## Testing out LIME"
   ]
  },
  {
   "cell_type": "code",
   "execution_count": null,
   "metadata": {},
   "outputs": [],
   "source": [
    "import sklearn\n",
    "import numpy as np\n",
    "import pandas as pd\n",
    "import lime\n",
    "\n",
    "from lime import lime_tabular\n",
    "from sklearn.pipeline import Pipeline\n",
    "from sklearn.compose import ColumnTransformer\n",
    "from sklearn.preprocessing import StandardScaler, LabelEncoder, OneHotEncoder\n",
    "from sklearn.impute import SimpleImputer\n",
    "from sklearn.ensemble import RandomForestClassifier\n",
    "from sklearn.metrics import roc_auc_score\n",
    "\n",
    "np.random.seed(1)"
   ]
  },
  {
   "cell_type": "code",
   "execution_count": null,
   "metadata": {},
   "outputs": [],
   "source": [
    "fake_data = pd.read_csv('../data/generated_data_numpy.csv')\n",
    "fake_data = fake_data.drop(columns=['Policy_Id', 'Policy_Year'])\n",
    "fake_data['Accident_Reported'] = np.where(fake_data['Accident_Reported'] == 1, 'Reported', 'Not Reported')\n"
   ]
  },
  {
   "cell_type": "code",
   "execution_count": null,
   "metadata": {},
   "outputs": [],
   "source": [
    "train, test, labels_train, labels_test = sklearn.model_selection.train_test_split(\n",
    "    fake_data[[x for x in fake_data.columns if x != 'Accident_Reported']],\n",
    "    fake_data['Accident_Reported'],\n",
    "    train_size=0.80)\n",
    "\n",
    "train = pd.DataFrame(train)\n",
    "test = pd.DataFrame(test)\n"
   ]
  },
  {
   "cell_type": "markdown",
   "metadata": {},
   "source": [
    "## Using Label Encoding for Categorical Features"
   ]
  },
  {
   "cell_type": "code",
   "execution_count": null,
   "metadata": {},
   "outputs": [],
   "source": [
    "# Define the numeric and categorical features\n",
    "numeric_features = ['Model_Year', 'Miles_Driven', 'Years_Customer']\n",
    "categorical_features = ['Make', 'Body_Style', 'Model_Color', 'Driver_Hair_Color']\n",
    "\n",
    "# label encode the categorical features keep all names in a dictionary with keys for the column number\n",
    "label_encoders = {}\n",
    "for feature in categorical_features:\n",
    "    le = LabelEncoder()\n",
    "    train[feature] = le.fit_transform(train[feature])\n",
    "    test[feature] = le.transform(test[feature])\n",
    "    label_encoders[feature] = le\n",
    "\n",
    "# Create the transformers for numeric and categorical features\n",
    "numeric_transformer = Pipeline(steps=[\n",
    "    ('imputer', SimpleImputer(strategy='median')),\n",
    "    ('scaler', StandardScaler())])\n",
    "\n",
    "# build categorical transformer with simple imputer and label encoder\n",
    "categorical_transformer = Pipeline(steps=[\n",
    "    ('imputer', SimpleImputer(strategy='constant'))])\n",
    "\n",
    "# Create the preprocessor\n",
    "preprocessor = ColumnTransformer(\n",
    "    transformers=[\n",
    "        ('num', numeric_transformer, numeric_features),\n",
    "        ('cat', categorical_transformer, categorical_features)])\n",
    "\n",
    "# preprocess train and test data\n",
    "train = preprocessor.fit_transform(train)\n",
    "test = preprocessor.transform(test)\n"
   ]
  },
  {
   "cell_type": "markdown",
   "metadata": {},
   "source": [
    "We create a one-hot encoder for just the classifier- not the explainer!"
   ]
  },
  {
   "cell_type": "markdown",
   "metadata": {},
   "source": [
    "## Random Forest Example"
   ]
  },
  {
   "cell_type": "code",
   "execution_count": null,
   "metadata": {},
   "outputs": [],
   "source": [
    "# get pandas dataframe with names\n",
    "train_df = pd.DataFrame(train, columns=numeric_features + categorical_features)\n",
    "\n",
    "ohe = OneHotEncoder()\n",
    "\n",
    "# Get the column indices of the categorical features\n",
    "categorical_features_idx = list(np.where(np.isin(train_df.columns, categorical_features))[0])\n",
    "\n",
    "# build a column transformer to apply the one hot encoder to the categorical features\n",
    "preprocessor_ohe = ColumnTransformer(\n",
    "    transformers=[\n",
    "        ('cat', ohe, categorical_features_idx)],\n",
    "    remainder='passthrough')\n",
    "\n",
    "# build a classifier\n",
    "clf = RandomForestClassifier(n_estimators=100)\n",
    "\n",
    "# build a pipeline to apply the column transformer and the classifier\n",
    "pipe = Pipeline(steps=[('preprocessor', preprocessor_ohe),\n",
    "                       ('classifier', clf)])\n"
   ]
  },
  {
   "cell_type": "code",
   "execution_count": null,
   "metadata": {},
   "outputs": [],
   "source": [
    "# fit the pipe\n",
    "pipe.fit(train, labels_train)\n"
   ]
  },
  {
   "cell_type": "code",
   "execution_count": null,
   "metadata": {},
   "outputs": [],
   "source": [
    "print(pipe.predict_proba(test[0:1]))\n"
   ]
  },
  {
   "cell_type": "code",
   "execution_count": null,
   "metadata": {},
   "outputs": [],
   "source": [
    "# using the label encoders we create a dictionary with the column indices as keys and a list of values for each label encoded variable\n",
    "categorical_values = {}\n",
    "for feature in categorical_features:\n",
    "    categorical_values[pd.DataFrame(train, columns=numeric_features + categorical_features).columns.get_loc(feature)] = list(label_encoders[feature].classes_)\n",
    "\n",
    "categorical_values\n"
   ]
  },
  {
   "cell_type": "code",
   "execution_count": null,
   "metadata": {},
   "outputs": [],
   "source": [
    "# build the lime explainer\n",
    "explainer = lime.lime_tabular.LimeTabularExplainer(train, \n",
    "                                                   feature_names=numeric_features + categorical_features, \n",
    "                                                   class_names=['Not Reported', 'Reported'], \n",
    "                                                   categorical_features=categorical_features_idx, \n",
    "                                                   categorical_names=categorical_values,\n",
    "                                                   mode='classification',\n",
    "                                                   discretize_continuous=True,)\n"
   ]
  },
  {
   "cell_type": "code",
   "execution_count": null,
   "metadata": {},
   "outputs": [],
   "source": [
    "# explain the first instance in the test set\n",
    "exp = explainer.explain_instance(train[0], pipe.predict_proba)\n",
    "\n",
    "# print the explanation\n",
    "exp.show_in_notebook(show_table=True, show_all=False)\n"
   ]
  },
  {
   "cell_type": "code",
   "execution_count": null,
   "metadata": {},
   "outputs": [],
   "source": []
  }
 ],
 "metadata": {
  "kernelspec": {
   "display_name": ".venv",
   "language": "python",
   "name": "python3"
  },
  "language_info": {
   "codemirror_mode": {
    "name": "ipython",
    "version": 3
   },
   "file_extension": ".py",
   "mimetype": "text/x-python",
   "name": "python",
   "nbconvert_exporter": "python",
   "pygments_lexer": "ipython3",
   "version": "3.11.3"
  }
 },
 "nbformat": 4,
 "nbformat_minor": 2
}
